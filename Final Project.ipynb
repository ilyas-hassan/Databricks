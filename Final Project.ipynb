{
 "cells": [
  {
   "cell_type": "markdown",
   "metadata": {
    "application/vnd.databricks.v1+cell": {
     "cellMetadata": {},
     "inputWidgets": {},
     "nuid": "2b243b3a-42e6-47c3-9071-1639c943e05c",
     "showTitle": false,
     "tableResultSettingsMap": {},
     "title": ""
    }
   },
   "source": [
    "# Understanding Chronic Illness- How Gender, Race, Location & Socioeconomic Variables Impact Disease Prevalence\n",
    "_______________________________________________________\n",
    "\n",
    "_By Ilyas Alhassan, Sadia Mohammed, Sakthi Srikanthan & Aneesah Gilani_\n"
   ]
  },
  {
   "cell_type": "markdown",
   "metadata": {
    "application/vnd.databricks.v1+cell": {
     "cellMetadata": {
      "byteLimit": 2048000,
      "rowLimit": 10000
     },
     "inputWidgets": {},
     "nuid": "d29a6aca-d0bf-4256-8f64-a5003de2596e",
     "showTitle": false,
     "tableResultSettingsMap": {},
     "title": ""
    }
   },
   "source": [
    "## Importing Libraries"
   ]
  },
  {
   "cell_type": "code",
   "execution_count": 0,
   "metadata": {
    "application/vnd.databricks.v1+cell": {
     "cellMetadata": {
      "byteLimit": 2048000,
      "rowLimit": 10000
     },
     "inputWidgets": {},
     "nuid": "65a8f593-fa65-4b59-8b47-af156bb53c93",
     "showTitle": false,
     "tableResultSettingsMap": {},
     "title": ""
    }
   },
   "outputs": [],
   "source": [
    "from pyspark.sql.functions import col, current_timestamp, regexp_replace, when, lit, count\n",
    "from pyspark.sql.types import *\n",
    "import datetime\n",
    "import pandas as pd \n",
    "import numpy as np   \n",
    "from matplotlib import cm\n",
    "import matplotlib.pyplot as plt  \n",
    "import seaborn as sns  \n",
    "import plotly.express as px\n",
    "import plotly.graph_objects as go\n",
    "from pyspark.sql import SparkSession \n",
    "from pyspark.sql.functions import col  \n",
    "from matplotlib.ticker import MaxNLocator"
   ]
  },
  {
   "cell_type": "markdown",
   "metadata": {
    "application/vnd.databricks.v1+cell": {
     "cellMetadata": {
      "byteLimit": 2048000,
      "rowLimit": 10000
     },
     "inputWidgets": {},
     "nuid": "b2bf4189-ad99-4bf9-9bec-ed4c874b3c7a",
     "showTitle": false,
     "tableResultSettingsMap": {},
     "title": ""
    }
   },
   "source": [
    "#Creating a Landing Zone Table (RAW)\n"
   ]
  },
  {
   "cell_type": "markdown",
   "metadata": {
    "application/vnd.databricks.v1+cell": {
     "cellMetadata": {
      "byteLimit": 2048000,
      "rowLimit": 10000
     },
     "inputWidgets": {},
     "nuid": "81d2a470-224b-4e29-9638-343807f274c0",
     "showTitle": false,
     "tableResultSettingsMap": {},
     "title": ""
    }
   },
   "source": [
    "##Defining Data Primary Data Source (Volumes)"
   ]
  },
  {
   "cell_type": "code",
   "execution_count": 0,
   "metadata": {
    "application/vnd.databricks.v1+cell": {
     "cellMetadata": {
      "byteLimit": 2048000,
      "implicitDf": true,
      "rowLimit": 10000
     },
     "inputWidgets": {},
     "nuid": "f8e1203f-d4c3-4149-a352-61e5e14ac375",
     "showTitle": false,
     "tableResultSettingsMap": {},
     "title": ""
    }
   },
   "outputs": [],
   "source": [
    "source_path1=\"/Volumes/sadia_catalog/sadia/data-lake/Alzheimer_s_Disease_and_Healthy_Aging_Data-2.csv\"\n",
    "source_path2=\"/Volumes/sadia_catalog/sadia/data-lake/U.S._Chronic_Disease_Indicators__CDI___2023_Release.csv\"\n"
   ]
  },
  {
   "cell_type": "markdown",
   "metadata": {
    "application/vnd.databricks.v1+cell": {
     "cellMetadata": {
      "byteLimit": 2048000,
      "rowLimit": 10000
     },
     "inputWidgets": {},
     "nuid": "297eeee9-865b-4cf2-8ade-815b61dd52f2",
     "showTitle": false,
     "tableResultSettingsMap": {},
     "title": ""
    }
   },
   "source": [
    "##Creating a Delta Table with the Raw Data"
   ]
  },
  {
   "cell_type": "code",
   "execution_count": 0,
   "metadata": {
    "application/vnd.databricks.v1+cell": {
     "cellMetadata": {
      "byteLimit": 2048000,
      "rowLimit": 10000
     },
     "inputWidgets": {},
     "nuid": "be0f6dd3-c4d9-407a-a00b-8aeec06468e5",
     "showTitle": false,
     "tableResultSettingsMap": {},
     "title": ""
    }
   },
   "outputs": [],
   "source": [
    "   df1 = spark.read.format(\"csv\") \\\n",
    "        .option(\"header\", \"true\") \\\n",
    "        .load(source_path1)"
   ]
  },
  {
   "cell_type": "code",
   "execution_count": 0,
   "metadata": {
    "application/vnd.databricks.v1+cell": {
     "cellMetadata": {
      "byteLimit": 2048000,
      "rowLimit": 10000
     },
     "inputWidgets": {},
     "nuid": "587e6e6d-c9bc-42c9-863c-4b8abbdfd8ac",
     "showTitle": false,
     "tableResultSettingsMap": {},
     "title": ""
    }
   },
   "outputs": [],
   "source": [
    " df2 = spark.read.format(\"csv\") \\\n",
    "        .option(\"header\", \"true\") \\\n",
    "        .load(source_path2)"
   ]
  },
  {
   "cell_type": "code",
   "execution_count": 0,
   "metadata": {
    "application/vnd.databricks.v1+cell": {
     "cellMetadata": {
      "byteLimit": 2048000,
      "rowLimit": 10000
     },
     "inputWidgets": {},
     "nuid": "c296f5f0-2343-46eb-b014-9d070f6d7b3b",
     "showTitle": false,
     "tableResultSettingsMap": {},
     "title": ""
    }
   },
   "outputs": [],
   "source": [
    "df1 = df1.withColumn(\"ingestion_timestamp\", current_timestamp()) \\\n",
    "             .withColumn(\"batch_id\", lit(datetime.datetime.now().strftime(\"%Y%m%d_%H%M%S\")))\n",
    "    "
   ]
  },
  {
   "cell_type": "code",
   "execution_count": 0,
   "metadata": {
    "application/vnd.databricks.v1+cell": {
     "cellMetadata": {
      "byteLimit": 2048000,
      "rowLimit": 10000
     },
     "inputWidgets": {},
     "nuid": "13f4bd62-c67b-44af-a060-f1b89bad878a",
     "showTitle": false,
     "tableResultSettingsMap": {},
     "title": ""
    }
   },
   "outputs": [],
   "source": [
    "df2 = df2.withColumn(\"ingestion_timestamp\", current_timestamp())\\\n",
    "             .withColumn(\"batch_id\", lit(datetime.datetime.now().strftime(\"%Y%m%d_%H%M%S\")))"
   ]
  },
  {
   "cell_type": "code",
   "execution_count": 0,
   "metadata": {
    "application/vnd.databricks.v1+cell": {
     "cellMetadata": {
      "byteLimit": 2048000,
      "rowLimit": 10000
     },
     "inputWidgets": {},
     "nuid": "0616222a-a401-4f63-9599-256715ebbb0b",
     "showTitle": false,
     "tableResultSettingsMap": {},
     "title": ""
    }
   },
   "outputs": [],
   "source": [
    "df2.display()"
   ]
  },
  {
   "cell_type": "code",
   "execution_count": 0,
   "metadata": {
    "application/vnd.databricks.v1+cell": {
     "cellMetadata": {
      "byteLimit": 2048000,
      "rowLimit": 10000
     },
     "inputWidgets": {},
     "nuid": "9e4ce419-b13c-4e70-b1d0-079483f9d741",
     "showTitle": false,
     "tableResultSettingsMap": {},
     "title": ""
    }
   },
   "outputs": [],
   "source": [
    "df1.display()"
   ]
  },
  {
   "cell_type": "code",
   "execution_count": 0,
   "metadata": {
    "application/vnd.databricks.v1+cell": {
     "cellMetadata": {
      "byteLimit": 2048000,
      "rowLimit": 10000
     },
     "inputWidgets": {},
     "nuid": "61ede2e9-3e17-4a05-b189-fc59f56c9b7e",
     "showTitle": false,
     "tableResultSettingsMap": {},
     "title": ""
    }
   },
   "outputs": [],
   "source": [
    "catalog = \"sadia_catalog\"\n",
    "schema = \"Sadia\"\n",
    "table1_name = \"raw_Alzheimar\"\n",
    "table2_name = \"raw_Chronic\""
   ]
  },
  {
   "cell_type": "code",
   "execution_count": 0,
   "metadata": {
    "application/vnd.databricks.v1+cell": {
     "cellMetadata": {
      "byteLimit": 2048000,
      "rowLimit": 10000
     },
     "inputWidgets": {},
     "nuid": "679422df-89d4-4235-a6be-6459c65b852c",
     "showTitle": false,
     "tableResultSettingsMap": {},
     "title": ""
    }
   },
   "outputs": [
    {
     "data": {
      "text/plain": [
       "DataFrame[]"
      ]
     },
     "execution_count": 13,
     "metadata": {},
     "output_type": "execute_result"
    }
   ],
   "source": [
    "spark.sql(f\"USE Catalog {catalog}\")"
   ]
  },
  {
   "cell_type": "code",
   "execution_count": 0,
   "metadata": {
    "application/vnd.databricks.v1+cell": {
     "cellMetadata": {
      "byteLimit": 2048000,
      "rowLimit": 10000
     },
     "inputWidgets": {},
     "nuid": "17857fbb-9744-4164-b14c-2e8639ae6c67",
     "showTitle": false,
     "tableResultSettingsMap": {},
     "title": ""
    }
   },
   "outputs": [
    {
     "data": {
      "text/plain": [
       "DataFrame[]"
      ]
     },
     "execution_count": 14,
     "metadata": {},
     "output_type": "execute_result"
    }
   ],
   "source": [
    "spark.sql(f\"CREATE DATABASE IF NOT EXISTS {catalog}.{schema}\")"
   ]
  },
  {
   "cell_type": "code",
   "execution_count": 0,
   "metadata": {
    "application/vnd.databricks.v1+cell": {
     "cellMetadata": {
      "byteLimit": 2048000,
      "rowLimit": 10000
     },
     "inputWidgets": {},
     "nuid": "1fbe42a8-6bdb-4605-8931-27f8c98a27d1",
     "showTitle": false,
     "tableResultSettingsMap": {},
     "title": ""
    }
   },
   "outputs": [],
   "source": [
    "df1.write.format(\"delta\").mode(\"append\").saveAsTable(f\"{catalog}.{schema}.{table1_name}\")"
   ]
  },
  {
   "cell_type": "code",
   "execution_count": 0,
   "metadata": {
    "application/vnd.databricks.v1+cell": {
     "cellMetadata": {
      "byteLimit": 2048000,
      "rowLimit": 10000
     },
     "inputWidgets": {},
     "nuid": "f6203f7c-b9e5-47da-b33d-0bf551e905b0",
     "showTitle": false,
     "tableResultSettingsMap": {},
     "title": ""
    }
   },
   "outputs": [],
   "source": [
    "df2.write.format(\"delta\").mode(\"append\").saveAsTable(f\"{catalog}.{schema}.{table2_name}\")"
   ]
  },
  {
   "cell_type": "markdown",
   "metadata": {
    "application/vnd.databricks.v1+cell": {
     "cellMetadata": {
      "byteLimit": 2048000,
      "rowLimit": 10000
     },
     "inputWidgets": {},
     "nuid": "dfe7c4d0-6866-46cd-ae89-2c517be153e6",
     "showTitle": false,
     "tableResultSettingsMap": {},
     "title": ""
    }
   },
   "source": [
    "#Preprocessing Raw Data"
   ]
  },
  {
   "cell_type": "code",
   "execution_count": 0,
   "metadata": {
    "application/vnd.databricks.v1+cell": {
     "cellMetadata": {
      "byteLimit": 2048000,
      "rowLimit": 10000
     },
     "inputWidgets": {},
     "nuid": "7a35d015-1cd1-47de-bd8b-60e3f2f0a4c9",
     "showTitle": false,
     "tableResultSettingsMap": {},
     "title": ""
    }
   },
   "outputs": [],
   "source": [
    "df1 = spark.sql(f\"SELECT * FROM {catalog}.{schema}.{table1_name}\")\n",
    "df2 = spark.sql(f\"SELECT * FROM {catalog}.{schema}.{table2_name}\")"
   ]
  },
  {
   "cell_type": "markdown",
   "metadata": {
    "application/vnd.databricks.v1+cell": {
     "cellMetadata": {
      "byteLimit": 2048000,
      "rowLimit": 10000
     },
     "inputWidgets": {},
     "nuid": "4a7a1091-3dc9-4ebd-92f7-fd1ee9359bda",
     "showTitle": false,
     "tableResultSettingsMap": {},
     "title": ""
    }
   },
   "source": [
    "##Count missing values"
   ]
  },
  {
   "cell_type": "code",
   "execution_count": 0,
   "metadata": {
    "application/vnd.databricks.v1+cell": {
     "cellMetadata": {
      "byteLimit": 2048000,
      "rowLimit": 10000
     },
     "inputWidgets": {},
     "nuid": "1413a815-4243-4e27-95fb-6e0fd2f51365",
     "showTitle": false,
     "tableResultSettingsMap": {},
     "title": ""
    }
   },
   "outputs": [
    {
     "data": {
      "text/html": [
       "<style scoped>\n",
       "  .table-result-container {\n",
       "    max-height: 300px;\n",
       "    overflow: auto;\n",
       "  }\n",
       "  table, th, td {\n",
       "    border: 1px solid black;\n",
       "    border-collapse: collapse;\n",
       "  }\n",
       "  th, td {\n",
       "    padding: 5px;\n",
       "  }\n",
       "  th {\n",
       "    text-align: left;\n",
       "  }\n",
       "</style><div class='table-result-container'><table class='table-result'><thead style='background-color: white'><tr><th>RowId_nulls</th><th>YearStart_nulls</th><th>YearEnd_nulls</th><th>LocationAbbr_nulls</th><th>LocationDesc_nulls</th><th>Datasource_nulls</th><th>Class_nulls</th><th>Topic_nulls</th><th>Question_nulls</th><th>Data_Value_Unit_nulls</th><th>DataValueTypeID_nulls</th><th>Data_Value_Type_nulls</th><th>Data_Value_nulls</th><th>Data_Value_Alt_nulls</th><th>Data_Value_Footnote_Symbol_nulls</th><th>Data_Value_Footnote_nulls</th><th>Low_Confidence_Limit_nulls</th><th>High_Confidence_Limit_nulls</th><th>StratificationCategory1_nulls</th><th>Stratification1_nulls</th><th>StratificationCategory2_nulls</th><th>Stratification2_nulls</th><th>Geolocation_nulls</th><th>ClassID_nulls</th><th>TopicID_nulls</th><th>QuestionID_nulls</th><th>LocationID_nulls</th><th>StratificationCategoryID1_nulls</th><th>StratificationID1_nulls</th><th>StratificationCategoryID2_nulls</th><th>StratificationID2_nulls</th><th>ingestion_timestamp_nulls</th><th>batch_id_nulls</th></tr></thead><tbody><tr><td>0</td><td>0</td><td>0</td><td>0</td><td>0</td><td>0</td><td>0</td><td>0</td><td>0</td><td>0</td><td>0</td><td>0</td><td>619101</td><td>619101</td><td>1184610</td><td>1184610</td><td>675367</td><td>675367</td><td>20237</td><td>20237</td><td>248346</td><td>248346</td><td>216468</td><td>9765</td><td>6720</td><td>0</td><td>0</td><td>0</td><td>0</td><td>0</td><td>0</td><td>0</td><td>0</td></tr></tbody></table></div>"
      ]
     },
     "metadata": {
      "application/vnd.databricks.v1+output": {
       "addedWidgets": {},
       "aggData": [],
       "aggError": "",
       "aggOverflow": false,
       "aggSchema": [],
       "aggSeriesLimitReached": false,
       "aggType": "",
       "arguments": {},
       "columnCustomDisplayInfos": {},
       "data": [
        [
         0,
         0,
         0,
         0,
         0,
         0,
         0,
         0,
         0,
         0,
         0,
         0,
         619101,
         619101,
         1184610,
         1184610,
         675367,
         675367,
         20237,
         20237,
         248346,
         248346,
         216468,
         9765,
         6720,
         0,
         0,
         0,
         0,
         0,
         0,
         0,
         0
        ]
       ],
       "datasetInfos": [],
       "dbfsResultPath": null,
       "isJsonSchema": true,
       "metadata": {},
       "overflow": false,
       "plotOptions": {
        "customPlotOptions": {},
        "displayType": "table",
        "pivotAggregation": null,
        "pivotColumns": null,
        "xColumns": null,
        "yColumns": null
       },
       "removedWidgets": [],
       "schema": [
        {
         "metadata": "{}",
         "name": "RowId_nulls",
         "type": "\"long\""
        },
        {
         "metadata": "{}",
         "name": "YearStart_nulls",
         "type": "\"long\""
        },
        {
         "metadata": "{}",
         "name": "YearEnd_nulls",
         "type": "\"long\""
        },
        {
         "metadata": "{}",
         "name": "LocationAbbr_nulls",
         "type": "\"long\""
        },
        {
         "metadata": "{}",
         "name": "LocationDesc_nulls",
         "type": "\"long\""
        },
        {
         "metadata": "{}",
         "name": "Datasource_nulls",
         "type": "\"long\""
        },
        {
         "metadata": "{}",
         "name": "Class_nulls",
         "type": "\"long\""
        },
        {
         "metadata": "{}",
         "name": "Topic_nulls",
         "type": "\"long\""
        },
        {
         "metadata": "{}",
         "name": "Question_nulls",
         "type": "\"long\""
        },
        {
         "metadata": "{}",
         "name": "Data_Value_Unit_nulls",
         "type": "\"long\""
        },
        {
         "metadata": "{}",
         "name": "DataValueTypeID_nulls",
         "type": "\"long\""
        },
        {
         "metadata": "{}",
         "name": "Data_Value_Type_nulls",
         "type": "\"long\""
        },
        {
         "metadata": "{}",
         "name": "Data_Value_nulls",
         "type": "\"long\""
        },
        {
         "metadata": "{}",
         "name": "Data_Value_Alt_nulls",
         "type": "\"long\""
        },
        {
         "metadata": "{}",
         "name": "Data_Value_Footnote_Symbol_nulls",
         "type": "\"long\""
        },
        {
         "metadata": "{}",
         "name": "Data_Value_Footnote_nulls",
         "type": "\"long\""
        },
        {
         "metadata": "{}",
         "name": "Low_Confidence_Limit_nulls",
         "type": "\"long\""
        },
        {
         "metadata": "{}",
         "name": "High_Confidence_Limit_nulls",
         "type": "\"long\""
        },
        {
         "metadata": "{}",
         "name": "StratificationCategory1_nulls",
         "type": "\"long\""
        },
        {
         "metadata": "{}",
         "name": "Stratification1_nulls",
         "type": "\"long\""
        },
        {
         "metadata": "{}",
         "name": "StratificationCategory2_nulls",
         "type": "\"long\""
        },
        {
         "metadata": "{}",
         "name": "Stratification2_nulls",
         "type": "\"long\""
        },
        {
         "metadata": "{}",
         "name": "Geolocation_nulls",
         "type": "\"long\""
        },
        {
         "metadata": "{}",
         "name": "ClassID_nulls",
         "type": "\"long\""
        },
        {
         "metadata": "{}",
         "name": "TopicID_nulls",
         "type": "\"long\""
        },
        {
         "metadata": "{}",
         "name": "QuestionID_nulls",
         "type": "\"long\""
        },
        {
         "metadata": "{}",
         "name": "LocationID_nulls",
         "type": "\"long\""
        },
        {
         "metadata": "{}",
         "name": "StratificationCategoryID1_nulls",
         "type": "\"long\""
        },
        {
         "metadata": "{}",
         "name": "StratificationID1_nulls",
         "type": "\"long\""
        },
        {
         "metadata": "{}",
         "name": "StratificationCategoryID2_nulls",
         "type": "\"long\""
        },
        {
         "metadata": "{}",
         "name": "StratificationID2_nulls",
         "type": "\"long\""
        },
        {
         "metadata": "{}",
         "name": "ingestion_timestamp_nulls",
         "type": "\"long\""
        },
        {
         "metadata": "{}",
         "name": "batch_id_nulls",
         "type": "\"long\""
        }
       ],
       "type": "table"
      }
     },
     "output_type": "display_data"
    }
   ],
   "source": [
    "df1.select([count(when(col(c).isNull(), c)).alias(f\"{c}_nulls\") for c in df1.columns]).display()"
   ]
  },
  {
   "cell_type": "code",
   "execution_count": 0,
   "metadata": {
    "application/vnd.databricks.v1+cell": {
     "cellMetadata": {
      "byteLimit": 2048000,
      "rowLimit": 10000
     },
     "inputWidgets": {},
     "nuid": "8b7ff5be-68d1-40bc-a77a-4debe119d6bb",
     "showTitle": false,
     "tableResultSettingsMap": {},
     "title": ""
    }
   },
   "outputs": [
    {
     "data": {
      "text/html": [
       "<style scoped>\n",
       "  .table-result-container {\n",
       "    max-height: 300px;\n",
       "    overflow: auto;\n",
       "  }\n",
       "  table, th, td {\n",
       "    border: 1px solid black;\n",
       "    border-collapse: collapse;\n",
       "  }\n",
       "  th, td {\n",
       "    padding: 5px;\n",
       "  }\n",
       "  th {\n",
       "    text-align: left;\n",
       "  }\n",
       "</style><div class='table-result-container'><table class='table-result'><thead style='background-color: white'><tr><th>YearStart_nulls</th><th>YearEnd_nulls</th><th>LocationAbbr_nulls</th><th>LocationDesc_nulls</th><th>DataSource_nulls</th><th>Topic_nulls</th><th>Question_nulls</th><th>Response_nulls</th><th>DataValueUnit_nulls</th><th>DataValueType_nulls</th><th>DataValue_nulls</th><th>DataValueAlt_nulls</th><th>DataValueFootnoteSymbol_nulls</th><th>DatavalueFootnote_nulls</th><th>LowConfidenceLimit_nulls</th><th>HighConfidenceLimit_nulls</th><th>StratificationCategory1_nulls</th><th>Stratification1_nulls</th><th>StratificationCategory2_nulls</th><th>Stratification2_nulls</th><th>StratificationCategory3_nulls</th><th>Stratification3_nulls</th><th>GeoLocation_nulls</th><th>ResponseID_nulls</th><th>LocationID_nulls</th><th>TopicID_nulls</th><th>QuestionID_nulls</th><th>DataValueTypeID_nulls</th><th>StratificationCategoryID1_nulls</th><th>StratificationID1_nulls</th><th>StratificationCategoryID2_nulls</th><th>StratificationID2_nulls</th><th>StratificationCategoryID3_nulls</th><th>StratificationID3_nulls</th><th>ingestion_timestamp_nulls</th><th>batch_id_nulls</th></tr></thead><tbody><tr><td>0</td><td>0</td><td>0</td><td>0</td><td>0</td><td>0</td><td>0</td><td>9485408</td><td>1216984</td><td>0</td><td>3029872</td><td>3048784</td><td>6335728</td><td>6335728</td><td>4026368</td><td>4026368</td><td>0</td><td>0</td><td>9485408</td><td>9485408</td><td>9485408</td><td>9485408</td><td>81328</td><td>9485408</td><td>0</td><td>0</td><td>0</td><td>0</td><td>0</td><td>0</td><td>9485408</td><td>9485408</td><td>9485408</td><td>9485408</td><td>0</td><td>0</td></tr></tbody></table></div>"
      ]
     },
     "metadata": {
      "application/vnd.databricks.v1+output": {
       "addedWidgets": {},
       "aggData": [],
       "aggError": "",
       "aggOverflow": false,
       "aggSchema": [],
       "aggSeriesLimitReached": false,
       "aggType": "",
       "arguments": {},
       "columnCustomDisplayInfos": {},
       "data": [
        [
         0,
         0,
         0,
         0,
         0,
         0,
         0,
         9485408,
         1216984,
         0,
         3029872,
         3048784,
         6335728,
         6335728,
         4026368,
         4026368,
         0,
         0,
         9485408,
         9485408,
         9485408,
         9485408,
         81328,
         9485408,
         0,
         0,
         0,
         0,
         0,
         0,
         9485408,
         9485408,
         9485408,
         9485408,
         0,
         0
        ]
       ],
       "datasetInfos": [],
       "dbfsResultPath": null,
       "isJsonSchema": true,
       "metadata": {},
       "overflow": false,
       "plotOptions": {
        "customPlotOptions": {},
        "displayType": "table",
        "pivotAggregation": null,
        "pivotColumns": null,
        "xColumns": null,
        "yColumns": null
       },
       "removedWidgets": [],
       "schema": [
        {
         "metadata": "{}",
         "name": "YearStart_nulls",
         "type": "\"long\""
        },
        {
         "metadata": "{}",
         "name": "YearEnd_nulls",
         "type": "\"long\""
        },
        {
         "metadata": "{}",
         "name": "LocationAbbr_nulls",
         "type": "\"long\""
        },
        {
         "metadata": "{}",
         "name": "LocationDesc_nulls",
         "type": "\"long\""
        },
        {
         "metadata": "{}",
         "name": "DataSource_nulls",
         "type": "\"long\""
        },
        {
         "metadata": "{}",
         "name": "Topic_nulls",
         "type": "\"long\""
        },
        {
         "metadata": "{}",
         "name": "Question_nulls",
         "type": "\"long\""
        },
        {
         "metadata": "{}",
         "name": "Response_nulls",
         "type": "\"long\""
        },
        {
         "metadata": "{}",
         "name": "DataValueUnit_nulls",
         "type": "\"long\""
        },
        {
         "metadata": "{}",
         "name": "DataValueType_nulls",
         "type": "\"long\""
        },
        {
         "metadata": "{}",
         "name": "DataValue_nulls",
         "type": "\"long\""
        },
        {
         "metadata": "{}",
         "name": "DataValueAlt_nulls",
         "type": "\"long\""
        },
        {
         "metadata": "{}",
         "name": "DataValueFootnoteSymbol_nulls",
         "type": "\"long\""
        },
        {
         "metadata": "{}",
         "name": "DatavalueFootnote_nulls",
         "type": "\"long\""
        },
        {
         "metadata": "{}",
         "name": "LowConfidenceLimit_nulls",
         "type": "\"long\""
        },
        {
         "metadata": "{}",
         "name": "HighConfidenceLimit_nulls",
         "type": "\"long\""
        },
        {
         "metadata": "{}",
         "name": "StratificationCategory1_nulls",
         "type": "\"long\""
        },
        {
         "metadata": "{}",
         "name": "Stratification1_nulls",
         "type": "\"long\""
        },
        {
         "metadata": "{}",
         "name": "StratificationCategory2_nulls",
         "type": "\"long\""
        },
        {
         "metadata": "{}",
         "name": "Stratification2_nulls",
         "type": "\"long\""
        },
        {
         "metadata": "{}",
         "name": "StratificationCategory3_nulls",
         "type": "\"long\""
        },
        {
         "metadata": "{}",
         "name": "Stratification3_nulls",
         "type": "\"long\""
        },
        {
         "metadata": "{}",
         "name": "GeoLocation_nulls",
         "type": "\"long\""
        },
        {
         "metadata": "{}",
         "name": "ResponseID_nulls",
         "type": "\"long\""
        },
        {
         "metadata": "{}",
         "name": "LocationID_nulls",
         "type": "\"long\""
        },
        {
         "metadata": "{}",
         "name": "TopicID_nulls",
         "type": "\"long\""
        },
        {
         "metadata": "{}",
         "name": "QuestionID_nulls",
         "type": "\"long\""
        },
        {
         "metadata": "{}",
         "name": "DataValueTypeID_nulls",
         "type": "\"long\""
        },
        {
         "metadata": "{}",
         "name": "StratificationCategoryID1_nulls",
         "type": "\"long\""
        },
        {
         "metadata": "{}",
         "name": "StratificationID1_nulls",
         "type": "\"long\""
        },
        {
         "metadata": "{}",
         "name": "StratificationCategoryID2_nulls",
         "type": "\"long\""
        },
        {
         "metadata": "{}",
         "name": "StratificationID2_nulls",
         "type": "\"long\""
        },
        {
         "metadata": "{}",
         "name": "StratificationCategoryID3_nulls",
         "type": "\"long\""
        },
        {
         "metadata": "{}",
         "name": "StratificationID3_nulls",
         "type": "\"long\""
        },
        {
         "metadata": "{}",
         "name": "ingestion_timestamp_nulls",
         "type": "\"long\""
        },
        {
         "metadata": "{}",
         "name": "batch_id_nulls",
         "type": "\"long\""
        }
       ],
       "type": "table"
      }
     },
     "output_type": "display_data"
    }
   ],
   "source": [
    "df2.select([count(when(col(c).isNull(), c)).alias(f\"{c}_nulls\") for c in df2.columns]).display()"
   ]
  },
  {
   "cell_type": "markdown",
   "metadata": {
    "application/vnd.databricks.v1+cell": {
     "cellMetadata": {
      "byteLimit": 2048000,
      "rowLimit": 10000
     },
     "inputWidgets": {},
     "nuid": "4c39f3c5-9d18-4048-8db1-4051b216e848",
     "showTitle": false,
     "tableResultSettingsMap": {},
     "title": ""
    }
   },
   "source": [
    "##Filling In missing values with Heuristics"
   ]
  },
  {
   "cell_type": "code",
   "execution_count": 0,
   "metadata": {
    "application/vnd.databricks.v1+cell": {
     "cellMetadata": {
      "byteLimit": 2048000,
      "rowLimit": 10000
     },
     "inputWidgets": {},
     "nuid": "a1f8c8a0-bdbd-48b9-b222-e67de0bc8fe1",
     "showTitle": false,
     "tableResultSettingsMap": {},
     "title": ""
    }
   },
   "outputs": [],
   "source": [
    "df1 = df1.na.fill({\"Data_Value\": \"0\", \"Data_Value_Alt\": \"0\"})\n",
    "df1 = df1.na.fill({\n",
    "    \"Low_Confidence_Limit\": \"0\",\n",
    "    \"High_Confidence_Limit\": \"0\"\n",
    "})\n",
    "df1 = df1.na.fill({\n",
    "    \"Data_Value_Footnote_Symbol\": \"None\",\n",
    "    \"Data_Value_Footnote\": \"No footnote\"\n",
    "})\n",
    "df1 = df1.na.fill({\"Geolocation\": \"Unknown\"})\n",
    "df1 = df1.na.fill({\n",
    "    \"StratificationCategory1\": \"Unspecified\",\n",
    "    \"Stratification1\": \"Unspecified\",\n",
    "    \"StratificationCategory2\": \"Unspecified\",\n",
    "    \"Stratification2\": \"Unspecified\"\n",
    "})\n",
    "df1 = df1.na.fill({\n",
    "    \"ClassID\": \"0\",\n",
    "    \"TopicID\": \"0\"\n",
    "})"
   ]
  },
  {
   "cell_type": "code",
   "execution_count": 0,
   "metadata": {
    "application/vnd.databricks.v1+cell": {
     "cellMetadata": {
      "byteLimit": 2048000,
      "rowLimit": 10000
     },
     "inputWidgets": {},
     "nuid": "849918b3-da78-468e-a30a-7078b35145f2",
     "showTitle": false,
     "tableResultSettingsMap": {},
     "title": ""
    }
   },
   "outputs": [],
   "source": [
    "df2 = df2.na.fill({\n",
    "    \"DataValue\": \"0\",\n",
    "    \"DataValueAlt\": \"0\"\n",
    "})\n",
    "\n",
    "df2 = df2.na.fill({\n",
    "    \"LowConfidenceLimit\": \"0\",\n",
    "    \"HighConfidenceLimit\": \"0\"\n",
    "})\n",
    "\n",
    "df2 = df2.na.fill({\n",
    "    \"DataValueFootnoteSymbol\": \"None\",\n",
    "    \"DatavalueFootnote\": \"No footnote\"\n",
    "})\n",
    "df2 = df2.na.fill({\n",
    "    \"Response\": \"No Response\",\n",
    "    \"ResponseID\": \"0\"\n",
    "})\n",
    "\n",
    "df2 = df2.na.fill({\n",
    "    \"GeoLocation\": \"Unknown\"\n",
    "})\n",
    "\n",
    "df2 = df2.na.fill({\n",
    "    \"StratificationCategory1\": \"Unspecified\",\n",
    "    \"Stratification1\": \"Unspecified\",\n",
    "    \"StratificationCategory2\": \"Unspecified\",\n",
    "    \"Stratification2\": \"Unspecified\",\n",
    "    \"StratificationCategory3\": \"Unspecified\",\n",
    "    \"Stratification3\": \"Unspecified\",\n",
    "    \"StratificationCategoryID1\": \"0\",\n",
    "    \"StratificationID1\": \"0\",\n",
    "    \"StratificationCategoryID2\": \"0\",\n",
    "    \"StratificationID2\": \"0\",\n",
    "    \"StratificationCategoryID3\": \"0\",\n",
    "    \"StratificationID3\": \"0\"\n",
    "})\n",
    "df2 = df2.na.fill({\n",
    "    \"DataValueUnit\": \"Unspecified\"\n",
    "})"
   ]
  },
  {
   "cell_type": "markdown",
   "metadata": {
    "application/vnd.databricks.v1+cell": {
     "cellMetadata": {
      "byteLimit": 2048000,
      "rowLimit": 10000
     },
     "inputWidgets": {},
     "nuid": "32904f93-7250-4707-aa41-1eaf31ec1363",
     "showTitle": false,
     "tableResultSettingsMap": {},
     "title": ""
    }
   },
   "source": [
    "##Checking whether missing values have been filled"
   ]
  },
  {
   "cell_type": "code",
   "execution_count": 0,
   "metadata": {
    "application/vnd.databricks.v1+cell": {
     "cellMetadata": {
      "byteLimit": 2048000,
      "rowLimit": 10000
     },
     "inputWidgets": {},
     "nuid": "7309e226-d8b1-4011-9ba5-e9faf21ae593",
     "showTitle": false,
     "tableResultSettingsMap": {},
     "title": ""
    }
   },
   "outputs": [],
   "source": [
    "df1.select([count(when(col(c).isNull(), c)).alias(f\"{c}_nulls\") for c in df1.columns]).display()"
   ]
  },
  {
   "cell_type": "code",
   "execution_count": 0,
   "metadata": {
    "application/vnd.databricks.v1+cell": {
     "cellMetadata": {
      "byteLimit": 2048000,
      "rowLimit": 10000
     },
     "inputWidgets": {},
     "nuid": "160a950b-9326-4b4c-a296-bb44b7c22772",
     "showTitle": false,
     "tableResultSettingsMap": {},
     "title": ""
    }
   },
   "outputs": [],
   "source": [
    "df2.select([count(when(col(c).isNull(), c)).alias(f\"{c}_nulls\") for c in df2.columns]).display()"
   ]
  },
  {
   "cell_type": "markdown",
   "metadata": {
    "application/vnd.databricks.v1+cell": {
     "cellMetadata": {
      "byteLimit": 2048000,
      "rowLimit": 10000
     },
     "inputWidgets": {},
     "nuid": "acf02e08-136d-4682-ab1c-7a2fc7f12d92",
     "showTitle": false,
     "tableResultSettingsMap": {},
     "title": ""
    }
   },
   "source": [
    "##Check for Duplicates"
   ]
  },
  {
   "cell_type": "code",
   "execution_count": 0,
   "metadata": {
    "application/vnd.databricks.v1+cell": {
     "cellMetadata": {
      "byteLimit": 2048000,
      "rowLimit": 10000
     },
     "inputWidgets": {},
     "nuid": "f9757a12-bd3b-44cb-a895-1740083ba30a",
     "showTitle": false,
     "tableResultSettingsMap": {},
     "title": ""
    }
   },
   "outputs": [],
   "source": [
    "print(f\"df1 duplicate count: {df1.groupBy(df1.columns).count().filter(col('count') > 1).count()}\")\n",
    "print(f\"df2 duplicate count: {df2.groupBy(df2.columns).count().filter(col('count') > 1).count()}\")"
   ]
  },
  {
   "cell_type": "markdown",
   "metadata": {
    "application/vnd.databricks.v1+cell": {
     "cellMetadata": {
      "byteLimit": 2048000,
      "rowLimit": 10000
     },
     "inputWidgets": {},
     "nuid": "0e202ff9-d2c4-4fa5-b81b-a845108c0c7e",
     "showTitle": false,
     "tableResultSettingsMap": {},
     "title": ""
    }
   },
   "source": [
    "##Renaming Columns"
   ]
  },
  {
   "cell_type": "code",
   "execution_count": 0,
   "metadata": {
    "application/vnd.databricks.v1+cell": {
     "cellMetadata": {
      "byteLimit": 2048000,
      "rowLimit": 10000
     },
     "inputWidgets": {},
     "nuid": "0d905baa-84af-432f-b6c0-07b31589275f",
     "showTitle": false,
     "tableResultSettingsMap": {},
     "title": ""
    }
   },
   "outputs": [],
   "source": [
    "columns_to_keep = ['LocationID', 'YearStart', 'YearEnd', 'LocationAbbr', 'LocationDesc']\n",
    "for column in df1.columns:\n",
    "    if column not in columns_to_keep:\n",
    "        df1 = df1.withColumnRenamed(column, f\"{column}_Alzheimer\")\n",
    "for column in df2.columns:\n",
    "    if column not in columns_to_keep:\n",
    "        df2 = df2.withColumnRenamed(column, f\"{column}_Chronic\")"
   ]
  },
  {
   "cell_type": "markdown",
   "metadata": {
    "application/vnd.databricks.v1+cell": {
     "cellMetadata": {
      "byteLimit": 2048000,
      "rowLimit": 10000
     },
     "inputWidgets": {},
     "nuid": "72745fb6-1ad7-460a-a9c2-5bbe732cbb56",
     "showTitle": false,
     "tableResultSettingsMap": {},
     "title": ""
    }
   },
   "source": [
    "##Joining Data"
   ]
  },
  {
   "cell_type": "code",
   "execution_count": 0,
   "metadata": {
    "application/vnd.databricks.v1+cell": {
     "cellMetadata": {
      "byteLimit": 2048000,
      "rowLimit": 10000
     },
     "inputWidgets": {},
     "nuid": "e4d8418e-92fd-463a-9596-ea58a2a0746a",
     "showTitle": false,
     "tableResultSettingsMap": {},
     "title": ""
    }
   },
   "outputs": [],
   "source": [
    "joined_df = df1.join(df2, \n",
    "    on=['LocationID', 'YearStart', 'YearEnd', 'LocationAbbr', 'LocationDesc'],\n",
    "    how='inner')\n",
    "joined_df = joined_df.withColumn(\n",
    "    \"data_category\",\n",
    "    when(col(\"Topic_Alzheimer\").like(\"%Alzheimer%\"), \"Alzheimer's Disease\")\n",
    "    .otherwise(\"Other Chronic Conditions\")\n",
    ")"
   ]
  },
  {
   "cell_type": "code",
   "execution_count": 0,
   "metadata": {
    "application/vnd.databricks.v1+cell": {
     "cellMetadata": {
      "byteLimit": 2048000,
      "rowLimit": 10000
     },
     "inputWidgets": {},
     "nuid": "c1442969-eab4-466d-9766-a43dcfe16b44",
     "showTitle": false,
     "tableResultSettingsMap": {},
     "title": ""
    }
   },
   "outputs": [],
   "source": [
    "joined_df.select(\"Topic_Alzheimer\", \"Topic_Chronic\").distinct().display()"
   ]
  },
  {
   "cell_type": "markdown",
   "metadata": {
    "application/vnd.databricks.v1+cell": {
     "cellMetadata": {
      "byteLimit": 2048000,
      "rowLimit": 10000
     },
     "inputWidgets": {},
     "nuid": "2d381088-210f-4b3f-8263-fb29bb123502",
     "showTitle": false,
     "tableResultSettingsMap": {},
     "title": ""
    }
   },
   "source": [
    "##Checking for Data quality after Join"
   ]
  },
  {
   "cell_type": "code",
   "execution_count": 0,
   "metadata": {
    "application/vnd.databricks.v1+cell": {
     "cellMetadata": {
      "byteLimit": 2048000,
      "rowLimit": 10000
     },
     "inputWidgets": {},
     "nuid": "e0fa7f4e-7d10-421f-a68f-cd193bcd317a",
     "showTitle": false,
     "tableResultSettingsMap": {},
     "title": ""
    }
   },
   "outputs": [],
   "source": [
    "joined_df.printSchema()"
   ]
  },
  {
   "cell_type": "markdown",
   "metadata": {
    "application/vnd.databricks.v1+cell": {
     "cellMetadata": {
      "byteLimit": 2048000,
      "rowLimit": 10000
     },
     "inputWidgets": {},
     "nuid": "ace99902-9ffe-4473-963b-8025dae8fdfc",
     "showTitle": false,
     "tableResultSettingsMap": {},
     "title": ""
    }
   },
   "source": [
    "#Data Explorations with (Visualizations)"
   ]
  },
  {
   "cell_type": "code",
   "execution_count": 0,
   "metadata": {
    "application/vnd.databricks.v1+cell": {
     "cellMetadata": {
      "byteLimit": 2048000,
      "rowLimit": 10000
     },
     "inputWidgets": {},
     "nuid": "1c0c2e8f-f40f-40af-9c6c-67d76c25027f",
     "showTitle": false,
     "tableResultSettingsMap": {},
     "title": ""
    }
   },
   "outputs": [],
   "source": [
    "cognitive_decline_df = df1.filter(col(\"Class\") == \"Cognitive Decline\")\n",
    "race_ethnicity_df = cognitive_decline_df.filter(col(\"StratificationCategory2\") == \"Race/Ethnicity\")\n",
    "gender_df = cognitive_decline_df.filter(col(\"StratificationCategory2\") == \"Gender\")"
   ]
  },
  {
   "cell_type": "code",
   "execution_count": 0,
   "metadata": {
    "application/vnd.databricks.v1+cell": {
     "cellMetadata": {
      "byteLimit": 2048000,
      "rowLimit": 10000
     },
     "inputWidgets": {},
     "nuid": "bcbebc01-4752-41c0-a3c3-b4878a14dcb6",
     "showTitle": false,
     "tableResultSettingsMap": {},
     "title": ""
    }
   },
   "outputs": [],
   "source": [
    "from pyspark.sql.functions import avg\n",
    "race_ethnicity_agg = race_ethnicity_df.groupBy(\"Stratification1_Alzheimer\", \"Stratification2_Alzheimer\").agg(\n",
    "    avg(\"Data_Value_Alzheimer\").alias(\"mean_percentage\")\n",
    ")\n",
    "gender_agg = gender_df.groupBy(\"Stratification1_Alzheimer\", \"Stratification2_Alzheimer\").agg(\n",
    "    avg(\"Data_Value_Alzheimer\").alias(\"mean_percentage\")\n",
    ")"
   ]
  },
  {
   "cell_type": "markdown",
   "metadata": {
    "application/vnd.databricks.v1+cell": {
     "cellMetadata": {
      "byteLimit": 2048000,
      "rowLimit": 10000
     },
     "inputWidgets": {},
     "nuid": "d77301be-1b98-4916-a198-dae5648a41e3",
     "showTitle": false,
     "tableResultSettingsMap": {},
     "title": ""
    }
   },
   "source": [
    "##Visualization I (Cognitive Decline by Race and Ethnic and Age Groups)"
   ]
  },
  {
   "cell_type": "code",
   "execution_count": 0,
   "metadata": {
    "application/vnd.databricks.v1+cell": {
     "cellMetadata": {
      "byteLimit": 2048000,
      "rowLimit": 10000
     },
     "inputWidgets": {},
     "nuid": "4e3f6f6a-dbf5-4ae0-a677-f1c018b4c2bb",
     "showTitle": false,
     "tableResultSettingsMap": {},
     "title": ""
    }
   },
   "outputs": [],
   "source": [
    "\n",
    "plt.figure(figsize=(12, 7))\n",
    "young_color = \"#48dbfb\"    \n",
    "middle_color = \"#FF6B6B\"    \n",
    "elderly_color = \"#a8e6cf\"\n",
    "race_ethnicity_pandas = race_ethnicity_agg.toPandas()\n",
    "race_ethnicity_pivot = race_ethnicity_pandas.pivot(\n",
    "    index=\"Stratification2_Alzheimer\", columns=\"Stratification1_Alzheimer\", values=\"mean_percentage\"\n",
    ")\n",
    "race_ethnicity_pivot.plot(kind=\"barh\", color=[young_color, middle_color, elderly_color])\n",
    "plt.title(\"Cognitive Decline Analysis by Race/Ethnicity and Age Groups\", fontsize=16)\n",
    "plt.xlabel(\"Mean Percentage of Cognitive Decline (%)\")\n",
    "plt.ylabel(\"Race/Ethnicity\")\n",
    "plt.axvline(overall_mean, color=\"#2d3436\", linestyle=\"--\",\n",
    "label=f\"Overall Mean: {overall_mean:.1f}%\")\n",
    "plt.grid(alpha=0.3)\n",
    "plt.legend(title=\"Age Group\")\n",
    "plt.tight_layout()\n",
    "plt.show()"
   ]
  },
  {
   "cell_type": "markdown",
   "metadata": {
    "application/vnd.databricks.v1+cell": {
     "cellMetadata": {
      "byteLimit": 2048000,
      "rowLimit": 10000
     },
     "inputWidgets": {},
     "nuid": "2edb1fb8-a1d2-4895-81f2-e9df47570d27",
     "showTitle": false,
     "tableResultSettingsMap": {},
     "title": ""
    }
   },
   "source": [
    "##Visulaization II (Cognitive Decline by Gender and Age Groups)"
   ]
  },
  {
   "cell_type": "code",
   "execution_count": 0,
   "metadata": {
    "application/vnd.databricks.v1+cell": {
     "cellMetadata": {
      "byteLimit": 2048000,
      "rowLimit": 10000
     },
     "inputWidgets": {},
     "nuid": "3b5e3792-328c-473f-874e-427032764888",
     "showTitle": false,
     "tableResultSettingsMap": {},
     "title": ""
    }
   },
   "outputs": [],
   "source": [
    "\n",
    "gender_pandas = gender_agg.toPandas()\n",
    "overall_mean = gender_pandas[\"mean_percentage\"].mean()\n",
    "gender_pivot = gender_pandas.pivot(\n",
    "    index=\"Stratification2_Alzheimer\", columns=\"Stratification1_Alzheimer\", values=\"mean_percentage\"\n",
    ")\n",
    "gender_pivot.plot(kind=\"barh\", figsize=(10, 6), color=[\"#FF9999\", \"#FF5555\"])\n",
    "plt.title(\"Cognitive Decline by Gender and Age\", fontsize=14)\n",
    "plt.xlabel(\"Mean Percentage of Cognitive Decline\")\n",
    "plt.ylabel(\"Gender\")\n",
    "plt.legend(title=\"Age Group\")\n",
    "plt.grid(axis=\"x\", linestyle=\"--\", alpha=0.7)\n",
    "plt.axvline(overall_mean, color=\"red\", linestyle=\"--\", label=f\"Overall Mean: {overall_mean:.2f}\")\n",
    "\n",
    "plt.show()\n",
    "\n"
   ]
  },
  {
   "cell_type": "markdown",
   "metadata": {
    "application/vnd.databricks.v1+cell": {
     "cellMetadata": {
      "byteLimit": 2048000,
      "rowLimit": 10000
     },
     "inputWidgets": {},
     "nuid": "bd811a9f-4e74-4cb2-bfaf-7003abf71780",
     "showTitle": false,
     "tableResultSettingsMap": {},
     "title": ""
    }
   },
   "source": [
    "A higher mean percentage indicates that a larger portion of individuals in that group reported experiencing cognitive decline"
   ]
  },
  {
   "cell_type": "markdown",
   "metadata": {
    "application/vnd.databricks.v1+cell": {
     "cellMetadata": {
      "byteLimit": 2048000,
      "rowLimit": 10000
     },
     "inputWidgets": {},
     "nuid": "abe4c4b4-2036-43e3-8226-f16d6d8d6287",
     "showTitle": false,
     "tableResultSettingsMap": {},
     "title": ""
    }
   },
   "source": [
    "##In this next section, we will examine various factors (RACE AND GENDER) WERE USED TO STRATIFY THE CHRONIC DATASET"
   ]
  },
  {
   "cell_type": "markdown",
   "metadata": {
    "application/vnd.databricks.v1+cell": {
     "cellMetadata": {
      "byteLimit": 2048000,
      "rowLimit": 10000
     },
     "inputWidgets": {},
     "nuid": "d63859d3-ce56-4f01-92f7-ec50b7d84e6e",
     "showTitle": false,
     "tableResultSettingsMap": {},
     "title": ""
    }
   },
   "source": [
    "##Overview of the Categories"
   ]
  },
  {
   "cell_type": "code",
   "execution_count": 0,
   "metadata": {
    "application/vnd.databricks.v1+cell": {
     "cellMetadata": {
      "byteLimit": 2048000,
      "rowLimit": 10000
     },
     "inputWidgets": {},
     "nuid": "d9f0c8f9-43c4-47e3-8632-686b442be297",
     "showTitle": false,
     "tableResultSettingsMap": {},
     "title": ""
    }
   },
   "outputs": [],
   "source": [
    "result_df1 = df2.groupBy(\"StratificationCategoryID1_Chronic\").agg(\n",
    "    count(\"*\").alias(\"count\")\n",
    ").orderBy(\"count\", ascending=False)\n",
    "display(result_df1)"
   ]
  },
  {
   "cell_type": "markdown",
   "metadata": {
    "application/vnd.databricks.v1+cell": {
     "cellMetadata": {
      "byteLimit": 2048000,
      "rowLimit": 10000
     },
     "inputWidgets": {},
     "nuid": "f8d0cd95-91f6-4f12-8238-8ce92c82ffcb",
     "showTitle": false,
     "tableResultSettingsMap": {},
     "title": ""
    }
   },
   "source": [
    "##Gender Analysis - Mean Cognitive Scores  (Chronic Diseases)"
   ]
  },
  {
   "cell_type": "code",
   "execution_count": 0,
   "metadata": {
    "application/vnd.databricks.v1+cell": {
     "cellMetadata": {
      "byteLimit": 2048000,
      "rowLimit": 10000
     },
     "inputWidgets": {},
     "nuid": "681d75c6-87c6-4c6d-b9e7-433994cd0ce8",
     "showTitle": false,
     "tableResultSettingsMap": {},
     "title": ""
    }
   },
   "outputs": [
    {
     "data": {
      "text/html": [
       "<style scoped>\n",
       "  .table-result-container {\n",
       "    max-height: 300px;\n",
       "    overflow: auto;\n",
       "  }\n",
       "  table, th, td {\n",
       "    border: 1px solid black;\n",
       "    border-collapse: collapse;\n",
       "  }\n",
       "  th, td {\n",
       "    padding: 5px;\n",
       "  }\n",
       "  th {\n",
       "    text-align: left;\n",
       "  }\n",
       "</style><div class='table-result-container'><table class='table-result'><thead style='background-color: white'><tr><th>StratificationID2_Alzheimer</th><th>avg_health_score</th><th>count</th></tr></thead><tbody><tr><td>FEMALE</td><td>35.31837595253131</td><td>232407</td></tr><tr><td>MALE</td><td>32.512704356562416</td><td>229929</td></tr></tbody></table></div>"
      ]
     },
     "metadata": {
      "application/vnd.databricks.v1+output": {
       "addedWidgets": {},
       "aggData": [],
       "aggError": "",
       "aggOverflow": false,
       "aggSchema": [],
       "aggSeriesLimitReached": false,
       "aggType": "",
       "arguments": {},
       "columnCustomDisplayInfos": {},
       "data": [
        [
         "FEMALE",
         35.31837595253131,
         232407
        ],
        [
         "MALE",
         32.512704356562416,
         229929
        ]
       ],
       "datasetInfos": [],
       "dbfsResultPath": null,
       "isJsonSchema": true,
       "metadata": {},
       "overflow": false,
       "plotOptions": {
        "customPlotOptions": {},
        "displayType": "table",
        "pivotAggregation": null,
        "pivotColumns": null,
        "xColumns": null,
        "yColumns": null
       },
       "removedWidgets": [],
       "schema": [
        {
         "metadata": "{}",
         "name": "StratificationID2_Alzheimer",
         "type": "\"string\""
        },
        {
         "metadata": "{}",
         "name": "avg_health_score",
         "type": "\"double\""
        },
        {
         "metadata": "{}",
         "name": "count",
         "type": "\"long\""
        }
       ],
       "type": "table"
      }
     },
     "output_type": "display_data"
    }
   ],
   "source": [
    "filtered_df1 = df1.filter(df1[\"StratificationID2_Alzheimer\"].isin(\"FEMALE\", \"MALE\"))\n",
    "result_df1 = filtered_df1.groupBy(\"StratificationID2_Alzheimer\").agg(\n",
    "    avg(\"Data_Value_Alzheimer\").alias(\"avg_health_score\"),\n",
    "    count(\"*\").alias(\"count\")\n",
    ").orderBy(\"avg_health_score\", ascending=False)\n",
    "result_df1.display()"
   ]
  },
  {
   "cell_type": "markdown",
   "metadata": {
    "application/vnd.databricks.v1+cell": {
     "cellMetadata": {
      "byteLimit": 2048000,
      "rowLimit": 10000
     },
     "inputWidgets": {},
     "nuid": "c3b75435-11ad-46d4-aab6-7df2093ac25d",
     "showTitle": false,
     "tableResultSettingsMap": {},
     "title": ""
    }
   },
   "source": [
    "##Visualization III (Gender Distribution Across Chronic Conditions)"
   ]
  },
  {
   "cell_type": "code",
   "execution_count": 0,
   "metadata": {
    "application/vnd.databricks.v1+cell": {
     "cellMetadata": {
      "byteLimit": 2048000,
      "rowLimit": 10000
     },
     "inputWidgets": {},
     "nuid": "6a5b202a-82be-486a-935f-36beb58d4790",
     "showTitle": false,
     "tableResultSettingsMap": {},
     "title": ""
    }
   },
   "outputs": [],
   "source": [
    "from pyspark.sql import functions as F\n",
    "filtered_df2 = df2.filter(df2[\"Stratification1_Chronic\"].isin(\"Male\", \"Female\"))\n",
    "result_df2 = filtered_df2.groupBy(\"Topic_Chronic\", \"Stratification1_Chronic\").agg(\n",
    "    F.countDistinct(\"DataValue_Chronic\").alias(\"count\") \n",
    ").orderBy(\"Topic_Chronic\", \"Stratification1_Chronic\")\n",
    "result_df2.display()"
   ]
  },
  {
   "cell_type": "code",
   "execution_count": 0,
   "metadata": {
    "application/vnd.databricks.v1+cell": {
     "cellMetadata": {
      "byteLimit": 2048000,
      "rowLimit": 10000
     },
     "inputWidgets": {},
     "nuid": "842a25ff-e48e-48d6-8864-42ce2ad97850",
     "showTitle": false,
     "tableResultSettingsMap": {},
     "title": ""
    }
   },
   "outputs": [],
   "source": [
    "plt.figure(figsize=(12, 7))\n",
    "df_plot = result_df2.toPandas()\n",
    "df_plot_sorted = df_plot.sort_values('count', ascending=False)\n",
    "\n",
    "sns.barplot(data=df_plot_sorted, \n",
    "           x='Topic_Chronic', \n",
    "           y='count',\n",
    "           hue='Stratification1_Chronic',\n",
    "           palette=[\"#48dbfb\", \"#FF6B6B\"])\n",
    "\n",
    "plt.title(\"Distribution of Chronic Conditions by Gender\", fontsize=16)\n",
    "plt.xlabel(\"Chronic Condition Type\")\n",
    "plt.ylabel(\"Count\")\n",
    "plt.xticks(rotation=45, ha='right')\n",
    "plt.legend(title=\"Gender\")\n",
    "plt.grid(alpha=0.3)\n",
    "plt.tight_layout()\n",
    "plt.show()"
   ]
  },
  {
   "cell_type": "markdown",
   "metadata": {
    "application/vnd.databricks.v1+cell": {
     "cellMetadata": {
      "byteLimit": 2048000,
      "rowLimit": 10000
     },
     "inputWidgets": {},
     "nuid": "d1fada18-4790-47f8-9eb7-33acdeb67637",
     "showTitle": false,
     "tableResultSettingsMap": {},
     "title": ""
    }
   },
   "source": [
    "##Gender Comparison: Chronic Conditions vs Alzheimer's Scores"
   ]
  }
 ],
 "metadata": {
  "application/vnd.databricks.v1+notebook": {
   "dashboards": [
    {
     "elements": [
      {
       "dashboardResultIndex": null,
       "elementNUID": "ace99902-9ffe-4473-963b-8025dae8fdfc",
       "elementType": "command",
       "guid": "7ef7f31b-6a05-4eb3-8646-4d6d4491980a",
       "options": null,
       "position": {
        "height": 2,
        "width": 6,
        "x": 8,
        "y": 0,
        "z": null
       },
       "resultIndex": null
      },
      {
       "dashboardResultIndex": 0,
       "elementNUID": "0c93dcc6-b089-4b94-98b3-36fea4efae30",
       "elementType": "command",
       "guid": "a55fb95d-7b9b-4b3e-aef8-b35f9447fc56",
       "options": null,
       "position": {
        "height": 12,
        "width": 24,
        "x": 0,
        "y": 2,
        "z": null
       },
       "resultIndex": null
      }
     ],
     "globalVars": {},
     "guid": "",
     "layoutOption": {
      "grid": true,
      "stack": true
     },
     "nuid": "8056b208-8dc4-404d-8199-97dd33ebec9d",
     "origId": 805899052578589,
     "title": "Health Conditions",
     "version": "DashboardViewV1",
     "width": 1024
    },
    {
     "elements": [
      {
       "dashboardResultIndex": 0,
       "elementNUID": "ae15a474-f05c-4f4a-a262-f45cac079ac9",
       "elementType": "command",
       "guid": "9663fae9-49a8-4583-8731-7c2baa1e13d1",
       "options": null,
       "position": null,
       "resultIndex": null
      }
     ],
     "globalVars": {},
     "guid": "",
     "layoutOption": {
      "grid": true,
      "stack": true
     },
     "nuid": "c2d2ac9c-5323-4e94-a69c-132f6d664d85",
     "origId": 2736014459164192,
     "title": "Untitled",
     "version": "DashboardViewV1",
     "width": 1024
    }
   ],
   "environmentMetadata": {
    "base_environment": "",
    "client": "1"
   },
   "language": "python",
   "notebookMetadata": {
    "mostRecentlyExecutedCommandWithImplicitDF": {
     "commandId": -1,
     "dataframes": [
      "_sqldf"
     ]
    },
    "pythonIndentUnit": 4
   },
   "notebookName": "Final Project",
   "widgets": {}
  },
  "language_info": {
   "name": "python"
  }
 },
 "nbformat": 4,
 "nbformat_minor": 0
}
